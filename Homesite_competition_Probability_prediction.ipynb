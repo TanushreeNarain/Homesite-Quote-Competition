{
  "cells": [
    {
      "cell_type": "code",
      "execution_count": null,
      "metadata": {
        "colab": {
          "base_uri": "https://localhost:8080/"
        },
        "id": "yHWPcytuqWbb",
        "outputId": "d2297b97-c395-42dc-a243-70351a427b1d"
      },
      "outputs": [
        {
          "name": "stdout",
          "output_type": "stream",
          "text": [
            "Looking in indexes: https://pypi.org/simple, https://us-python.pkg.dev/colab-wheels/public/simple/\n",
            "Collecting vecstack\n",
            "  Downloading vecstack-0.4.0.tar.gz (18 kB)\n",
            "Requirement already satisfied: numpy in /usr/local/lib/python3.7/dist-packages (from vecstack) (1.21.6)\n",
            "Requirement already satisfied: scipy in /usr/local/lib/python3.7/dist-packages (from vecstack) (1.7.3)\n",
            "Requirement already satisfied: scikit-learn>=0.18 in /usr/local/lib/python3.7/dist-packages (from vecstack) (1.0.2)\n",
            "Requirement already satisfied: joblib>=0.11 in /usr/local/lib/python3.7/dist-packages (from scikit-learn>=0.18->vecstack) (1.2.0)\n",
            "Requirement already satisfied: threadpoolctl>=2.0.0 in /usr/local/lib/python3.7/dist-packages (from scikit-learn>=0.18->vecstack) (3.1.0)\n",
            "Building wheels for collected packages: vecstack\n",
            "  Building wheel for vecstack (setup.py) ... \u001b[?25l\u001b[?25hdone\n",
            "  Created wheel for vecstack: filename=vecstack-0.4.0-py3-none-any.whl size=19877 sha256=e816c81283f2d7f9179fdcfb942727ce711131ebcf803a4b918351197d7e73eb\n",
            "  Stored in directory: /root/.cache/pip/wheels/28/fe/0c/fe8e43660e3316d7ce204e59a79a72246c0ae9b6c5c79841c8\n",
            "Successfully built vecstack\n",
            "Installing collected packages: vecstack\n",
            "Successfully installed vecstack-0.4.0\n"
          ]
        }
      ],
      "source": [
        "!pip install vecstack"
      ]
    },
    {
      "cell_type": "code",
      "execution_count": null,
      "metadata": {
        "colab": {
          "base_uri": "https://localhost:8080/"
        },
        "id": "tdI_1heNrL6o",
        "outputId": "a96bf8e2-d2b6-4a3c-efa3-c33427dc0486"
      },
      "outputs": [
        {
          "name": "stdout",
          "output_type": "stream",
          "text": [
            "Mounted at /gdrive\n",
            "/gdrive\n"
          ]
        }
      ],
      "source": [
        "from google.colab import drive\n",
        "drive.mount('/gdrive')\n",
        "#Change current working directory to gdrive\n",
        "%cd /gdrive"
      ]
    },
    {
      "cell_type": "code",
      "execution_count": null,
      "metadata": {
        "id": "jFYmwTT9rR3w"
      },
      "outputs": [],
      "source": [
        "import numpy as np \n",
        "import pandas as pd\n",
        "import matplotlib.pyplot as plt \n",
        "import seaborn as sns\n",
        "from vecstack import stacking\n",
        "from sklearn.metrics import accuracy_score\n",
        "from sklearn.model_selection import train_test_split\n",
        "from sklearn.ensemble import RandomForestClassifier\n",
        "from sklearn.tree import DecisionTreeClassifier\n",
        "from sklearn.neighbors import KNeighborsClassifier\n",
        "from sklearn.model_selection import GridSearchCV\n",
        "from sklearn.model_selection import RandomizedSearchCV\n",
        "from sklearn.model_selection import cross_val_score\n",
        "from sklearn import metrics\n",
        "from sklearn.metrics import classification_report, confusion_matrix\n",
        "from sklearn.ensemble import GradientBoostingClassifier\n",
        "from sklearn.neural_network import MLPClassifier\n",
        "from imblearn.over_sampling import SMOTE \n",
        "from sklearn.svm import SVC\n",
        "from collections import Counter\n",
        "from sklearn._config import get_config, set_config\n",
        "set_config(print_changed_only=False)"
      ]
    },
    {
      "cell_type": "code",
      "execution_count": null,
      "metadata": {
        "colab": {
          "base_uri": "https://localhost:8080/"
        },
        "id": "l_n0a08erVvp",
        "outputId": "40e87919-0b77-4f84-8965-35440ccac6d3"
      },
      "outputs": [
        {
          "name": "stdout",
          "output_type": "stream",
          "text": [
            "(65000, 596)\n",
            "(173836, 596)\n"
          ]
        }
      ],
      "source": [
        "trainfile = r'/gdrive/My Drive/RevisedHomesiteTrain1.csv'\n",
        "train_data = pd.read_csv(trainfile)\n",
        "\n",
        "testfile = r'/gdrive/My Drive/RevisedHomesiteTest1.csv'\n",
        "test_data = pd.read_csv(testfile)\n",
        "\n",
        "print(train_data.shape)\n",
        "print(test_data.shape)"
      ]
    },
    {
      "cell_type": "code",
      "execution_count": null,
      "metadata": {
        "colab": {
          "base_uri": "https://localhost:8080/"
        },
        "id": "O-JwBP50rgVz",
        "outputId": "48bb8a13-5130-4ffb-b0df-23fd0b895398"
      },
      "outputs": [
        {
          "data": {
            "text/plain": [
              "CoverageField11A        0\n",
              "CoverageField11B        0\n",
              "CoverageField1A         0\n",
              "CoverageField1B         0\n",
              "CoverageField2A         0\n",
              "                       ..\n",
              "GeographicField64_CA    0\n",
              "GeographicField64_IL    0\n",
              "GeographicField64_NJ    0\n",
              "GeographicField64_TX    0\n",
              "GeographicField64       0\n",
              "Length: 596, dtype: int64"
            ]
          },
          "execution_count": 6,
          "metadata": {},
          "output_type": "execute_result"
        }
      ],
      "source": [
        "test_data.isnull().sum()"
      ]
    },
    {
      "cell_type": "code",
      "execution_count": null,
      "metadata": {
        "colab": {
          "base_uri": "https://localhost:8080/"
        },
        "id": "ejY_Q3wyrkgt",
        "outputId": "cf9cbc20-8511-40bf-edf6-0399ee406abb"
      },
      "outputs": [
        {
          "name": "stdout",
          "output_type": "stream",
          "text": [
            "<class 'pandas.core.frame.DataFrame'>\n",
            "RangeIndex: 65000 entries, 0 to 64999\n",
            "Columns: 596 entries, CoverageField11A to QuoteConversion_Flag\n",
            "dtypes: float64(5), int64(591)\n",
            "memory usage: 295.6 MB\n"
          ]
        }
      ],
      "source": [
        "train_data.info()"
      ]
    },
    {
      "cell_type": "code",
      "execution_count": null,
      "metadata": {
        "colab": {
          "base_uri": "https://localhost:8080/",
          "height": 394
        },
        "id": "ArFY98N9rm3L",
        "outputId": "c36e718c-bbdb-4bec-96e0-849f7c7a575b"
      },
      "outputs": [
        {
          "data": {
            "text/html": [
              "\n",
              "  <div id=\"df-e5cc4717-2915-430c-bce8-c434bfb6f149\">\n",
              "    <div class=\"colab-df-container\">\n",
              "      <div>\n",
              "<style scoped>\n",
              "    .dataframe tbody tr th:only-of-type {\n",
              "        vertical-align: middle;\n",
              "    }\n",
              "\n",
              "    .dataframe tbody tr th {\n",
              "        vertical-align: top;\n",
              "    }\n",
              "\n",
              "    .dataframe thead th {\n",
              "        text-align: right;\n",
              "    }\n",
              "</style>\n",
              "<table border=\"1\" class=\"dataframe\">\n",
              "  <thead>\n",
              "    <tr style=\"text-align: right;\">\n",
              "      <th></th>\n",
              "      <th>CoverageField11A</th>\n",
              "      <th>CoverageField11B</th>\n",
              "      <th>CoverageField1A</th>\n",
              "      <th>CoverageField1B</th>\n",
              "      <th>CoverageField2A</th>\n",
              "      <th>CoverageField2B</th>\n",
              "      <th>CoverageField3A</th>\n",
              "      <th>CoverageField3B</th>\n",
              "      <th>CoverageField4A</th>\n",
              "      <th>CoverageField4B</th>\n",
              "      <th>...</th>\n",
              "      <th>PropertyField38_N</th>\n",
              "      <th>PropertyField38_Y</th>\n",
              "      <th>GeographicField63_</th>\n",
              "      <th>GeographicField63_N</th>\n",
              "      <th>GeographicField63_Y</th>\n",
              "      <th>GeographicField64_CA</th>\n",
              "      <th>GeographicField64_IL</th>\n",
              "      <th>GeographicField64_NJ</th>\n",
              "      <th>GeographicField64_TX</th>\n",
              "      <th>QuoteConversion_Flag</th>\n",
              "    </tr>\n",
              "  </thead>\n",
              "  <tbody>\n",
              "    <tr>\n",
              "      <th>count</th>\n",
              "      <td>65000.000000</td>\n",
              "      <td>65000.000000</td>\n",
              "      <td>65000.000000</td>\n",
              "      <td>65000.000000</td>\n",
              "      <td>65000.000000</td>\n",
              "      <td>65000.000000</td>\n",
              "      <td>65000.000000</td>\n",
              "      <td>65000.000000</td>\n",
              "      <td>65000.000000</td>\n",
              "      <td>65000.000000</td>\n",
              "      <td>...</td>\n",
              "      <td>65000.000000</td>\n",
              "      <td>65000.000000</td>\n",
              "      <td>65000.0</td>\n",
              "      <td>65000.000000</td>\n",
              "      <td>65000.000000</td>\n",
              "      <td>65000.000000</td>\n",
              "      <td>65000.000000</td>\n",
              "      <td>65000.000000</td>\n",
              "      <td>65000.000000</td>\n",
              "      <td>65000.000000</td>\n",
              "    </tr>\n",
              "    <tr>\n",
              "      <th>mean</th>\n",
              "      <td>7.798892</td>\n",
              "      <td>12.954892</td>\n",
              "      <td>9.014585</td>\n",
              "      <td>12.995831</td>\n",
              "      <td>9.060000</td>\n",
              "      <td>13.017308</td>\n",
              "      <td>9.064538</td>\n",
              "      <td>13.017877</td>\n",
              "      <td>8.973785</td>\n",
              "      <td>13.011031</td>\n",
              "      <td>...</td>\n",
              "      <td>0.974969</td>\n",
              "      <td>0.020292</td>\n",
              "      <td>0.0</td>\n",
              "      <td>0.976262</td>\n",
              "      <td>0.023738</td>\n",
              "      <td>0.361862</td>\n",
              "      <td>0.120908</td>\n",
              "      <td>0.267631</td>\n",
              "      <td>0.249600</td>\n",
              "      <td>0.188646</td>\n",
              "    </tr>\n",
              "    <tr>\n",
              "      <th>std</th>\n",
              "      <td>5.304856</td>\n",
              "      <td>7.259023</td>\n",
              "      <td>5.586114</td>\n",
              "      <td>7.217093</td>\n",
              "      <td>5.568791</td>\n",
              "      <td>7.207118</td>\n",
              "      <td>5.588694</td>\n",
              "      <td>7.212825</td>\n",
              "      <td>5.564675</td>\n",
              "      <td>7.203325</td>\n",
              "      <td>...</td>\n",
              "      <td>0.156220</td>\n",
              "      <td>0.140999</td>\n",
              "      <td>0.0</td>\n",
              "      <td>0.152234</td>\n",
              "      <td>0.152234</td>\n",
              "      <td>0.480543</td>\n",
              "      <td>0.326022</td>\n",
              "      <td>0.442727</td>\n",
              "      <td>0.432785</td>\n",
              "      <td>0.391230</td>\n",
              "    </tr>\n",
              "    <tr>\n",
              "      <th>min</th>\n",
              "      <td>-1.000000</td>\n",
              "      <td>-1.000000</td>\n",
              "      <td>-1.000000</td>\n",
              "      <td>-1.000000</td>\n",
              "      <td>1.000000</td>\n",
              "      <td>1.000000</td>\n",
              "      <td>1.000000</td>\n",
              "      <td>1.000000</td>\n",
              "      <td>1.000000</td>\n",
              "      <td>1.000000</td>\n",
              "      <td>...</td>\n",
              "      <td>0.000000</td>\n",
              "      <td>0.000000</td>\n",
              "      <td>0.0</td>\n",
              "      <td>0.000000</td>\n",
              "      <td>0.000000</td>\n",
              "      <td>0.000000</td>\n",
              "      <td>0.000000</td>\n",
              "      <td>0.000000</td>\n",
              "      <td>0.000000</td>\n",
              "      <td>0.000000</td>\n",
              "    </tr>\n",
              "    <tr>\n",
              "      <th>25%</th>\n",
              "      <td>4.000000</td>\n",
              "      <td>7.000000</td>\n",
              "      <td>5.000000</td>\n",
              "      <td>7.000000</td>\n",
              "      <td>5.000000</td>\n",
              "      <td>7.000000</td>\n",
              "      <td>5.000000</td>\n",
              "      <td>7.000000</td>\n",
              "      <td>5.000000</td>\n",
              "      <td>7.000000</td>\n",
              "      <td>...</td>\n",
              "      <td>1.000000</td>\n",
              "      <td>0.000000</td>\n",
              "      <td>0.0</td>\n",
              "      <td>1.000000</td>\n",
              "      <td>0.000000</td>\n",
              "      <td>0.000000</td>\n",
              "      <td>0.000000</td>\n",
              "      <td>0.000000</td>\n",
              "      <td>0.000000</td>\n",
              "      <td>0.000000</td>\n",
              "    </tr>\n",
              "    <tr>\n",
              "      <th>50%</th>\n",
              "      <td>6.000000</td>\n",
              "      <td>13.000000</td>\n",
              "      <td>8.000000</td>\n",
              "      <td>13.000000</td>\n",
              "      <td>8.000000</td>\n",
              "      <td>13.000000</td>\n",
              "      <td>8.000000</td>\n",
              "      <td>13.000000</td>\n",
              "      <td>8.000000</td>\n",
              "      <td>13.000000</td>\n",
              "      <td>...</td>\n",
              "      <td>1.000000</td>\n",
              "      <td>0.000000</td>\n",
              "      <td>0.0</td>\n",
              "      <td>1.000000</td>\n",
              "      <td>0.000000</td>\n",
              "      <td>0.000000</td>\n",
              "      <td>0.000000</td>\n",
              "      <td>0.000000</td>\n",
              "      <td>0.000000</td>\n",
              "      <td>0.000000</td>\n",
              "    </tr>\n",
              "    <tr>\n",
              "      <th>75%</th>\n",
              "      <td>10.000000</td>\n",
              "      <td>19.000000</td>\n",
              "      <td>12.000000</td>\n",
              "      <td>19.000000</td>\n",
              "      <td>12.000000</td>\n",
              "      <td>19.000000</td>\n",
              "      <td>12.000000</td>\n",
              "      <td>19.000000</td>\n",
              "      <td>12.000000</td>\n",
              "      <td>19.000000</td>\n",
              "      <td>...</td>\n",
              "      <td>1.000000</td>\n",
              "      <td>0.000000</td>\n",
              "      <td>0.0</td>\n",
              "      <td>1.000000</td>\n",
              "      <td>0.000000</td>\n",
              "      <td>1.000000</td>\n",
              "      <td>0.000000</td>\n",
              "      <td>1.000000</td>\n",
              "      <td>0.000000</td>\n",
              "      <td>0.000000</td>\n",
              "    </tr>\n",
              "    <tr>\n",
              "      <th>max</th>\n",
              "      <td>25.000000</td>\n",
              "      <td>25.000000</td>\n",
              "      <td>25.000000</td>\n",
              "      <td>25.000000</td>\n",
              "      <td>25.000000</td>\n",
              "      <td>25.000000</td>\n",
              "      <td>25.000000</td>\n",
              "      <td>25.000000</td>\n",
              "      <td>25.000000</td>\n",
              "      <td>25.000000</td>\n",
              "      <td>...</td>\n",
              "      <td>1.000000</td>\n",
              "      <td>1.000000</td>\n",
              "      <td>0.0</td>\n",
              "      <td>1.000000</td>\n",
              "      <td>1.000000</td>\n",
              "      <td>1.000000</td>\n",
              "      <td>1.000000</td>\n",
              "      <td>1.000000</td>\n",
              "      <td>1.000000</td>\n",
              "      <td>1.000000</td>\n",
              "    </tr>\n",
              "  </tbody>\n",
              "</table>\n",
              "<p>8 rows × 596 columns</p>\n",
              "</div>\n",
              "      <button class=\"colab-df-convert\" onclick=\"convertToInteractive('df-e5cc4717-2915-430c-bce8-c434bfb6f149')\"\n",
              "              title=\"Convert this dataframe to an interactive table.\"\n",
              "              style=\"display:none;\">\n",
              "        \n",
              "  <svg xmlns=\"http://www.w3.org/2000/svg\" height=\"24px\"viewBox=\"0 0 24 24\"\n",
              "       width=\"24px\">\n",
              "    <path d=\"M0 0h24v24H0V0z\" fill=\"none\"/>\n",
              "    <path d=\"M18.56 5.44l.94 2.06.94-2.06 2.06-.94-2.06-.94-.94-2.06-.94 2.06-2.06.94zm-11 1L8.5 8.5l.94-2.06 2.06-.94-2.06-.94L8.5 2.5l-.94 2.06-2.06.94zm10 10l.94 2.06.94-2.06 2.06-.94-2.06-.94-.94-2.06-.94 2.06-2.06.94z\"/><path d=\"M17.41 7.96l-1.37-1.37c-.4-.4-.92-.59-1.43-.59-.52 0-1.04.2-1.43.59L10.3 9.45l-7.72 7.72c-.78.78-.78 2.05 0 2.83L4 21.41c.39.39.9.59 1.41.59.51 0 1.02-.2 1.41-.59l7.78-7.78 2.81-2.81c.8-.78.8-2.07 0-2.86zM5.41 20L4 18.59l7.72-7.72 1.47 1.35L5.41 20z\"/>\n",
              "  </svg>\n",
              "      </button>\n",
              "      \n",
              "  <style>\n",
              "    .colab-df-container {\n",
              "      display:flex;\n",
              "      flex-wrap:wrap;\n",
              "      gap: 12px;\n",
              "    }\n",
              "\n",
              "    .colab-df-convert {\n",
              "      background-color: #E8F0FE;\n",
              "      border: none;\n",
              "      border-radius: 50%;\n",
              "      cursor: pointer;\n",
              "      display: none;\n",
              "      fill: #1967D2;\n",
              "      height: 32px;\n",
              "      padding: 0 0 0 0;\n",
              "      width: 32px;\n",
              "    }\n",
              "\n",
              "    .colab-df-convert:hover {\n",
              "      background-color: #E2EBFA;\n",
              "      box-shadow: 0px 1px 2px rgba(60, 64, 67, 0.3), 0px 1px 3px 1px rgba(60, 64, 67, 0.15);\n",
              "      fill: #174EA6;\n",
              "    }\n",
              "\n",
              "    [theme=dark] .colab-df-convert {\n",
              "      background-color: #3B4455;\n",
              "      fill: #D2E3FC;\n",
              "    }\n",
              "\n",
              "    [theme=dark] .colab-df-convert:hover {\n",
              "      background-color: #434B5C;\n",
              "      box-shadow: 0px 1px 3px 1px rgba(0, 0, 0, 0.15);\n",
              "      filter: drop-shadow(0px 1px 2px rgba(0, 0, 0, 0.3));\n",
              "      fill: #FFFFFF;\n",
              "    }\n",
              "  </style>\n",
              "\n",
              "      <script>\n",
              "        const buttonEl =\n",
              "          document.querySelector('#df-e5cc4717-2915-430c-bce8-c434bfb6f149 button.colab-df-convert');\n",
              "        buttonEl.style.display =\n",
              "          google.colab.kernel.accessAllowed ? 'block' : 'none';\n",
              "\n",
              "        async function convertToInteractive(key) {\n",
              "          const element = document.querySelector('#df-e5cc4717-2915-430c-bce8-c434bfb6f149');\n",
              "          const dataTable =\n",
              "            await google.colab.kernel.invokeFunction('convertToInteractive',\n",
              "                                                     [key], {});\n",
              "          if (!dataTable) return;\n",
              "\n",
              "          const docLinkHtml = 'Like what you see? Visit the ' +\n",
              "            '<a target=\"_blank\" href=https://colab.research.google.com/notebooks/data_table.ipynb>data table notebook</a>'\n",
              "            + ' to learn more about interactive tables.';\n",
              "          element.innerHTML = '';\n",
              "          dataTable['output_type'] = 'display_data';\n",
              "          await google.colab.output.renderOutput(dataTable, element);\n",
              "          const docLink = document.createElement('div');\n",
              "          docLink.innerHTML = docLinkHtml;\n",
              "          element.appendChild(docLink);\n",
              "        }\n",
              "      </script>\n",
              "    </div>\n",
              "  </div>\n",
              "  "
            ],
            "text/plain": [
              "       CoverageField11A  CoverageField11B  CoverageField1A  CoverageField1B  \\\n",
              "count      65000.000000      65000.000000     65000.000000     65000.000000   \n",
              "mean           7.798892         12.954892         9.014585        12.995831   \n",
              "std            5.304856          7.259023         5.586114         7.217093   \n",
              "min           -1.000000         -1.000000        -1.000000        -1.000000   \n",
              "25%            4.000000          7.000000         5.000000         7.000000   \n",
              "50%            6.000000         13.000000         8.000000        13.000000   \n",
              "75%           10.000000         19.000000        12.000000        19.000000   \n",
              "max           25.000000         25.000000        25.000000        25.000000   \n",
              "\n",
              "       CoverageField2A  CoverageField2B  CoverageField3A  CoverageField3B  \\\n",
              "count     65000.000000     65000.000000     65000.000000     65000.000000   \n",
              "mean          9.060000        13.017308         9.064538        13.017877   \n",
              "std           5.568791         7.207118         5.588694         7.212825   \n",
              "min           1.000000         1.000000         1.000000         1.000000   \n",
              "25%           5.000000         7.000000         5.000000         7.000000   \n",
              "50%           8.000000        13.000000         8.000000        13.000000   \n",
              "75%          12.000000        19.000000        12.000000        19.000000   \n",
              "max          25.000000        25.000000        25.000000        25.000000   \n",
              "\n",
              "       CoverageField4A  CoverageField4B  ...  PropertyField38_N  \\\n",
              "count     65000.000000     65000.000000  ...       65000.000000   \n",
              "mean          8.973785        13.011031  ...           0.974969   \n",
              "std           5.564675         7.203325  ...           0.156220   \n",
              "min           1.000000         1.000000  ...           0.000000   \n",
              "25%           5.000000         7.000000  ...           1.000000   \n",
              "50%           8.000000        13.000000  ...           1.000000   \n",
              "75%          12.000000        19.000000  ...           1.000000   \n",
              "max          25.000000        25.000000  ...           1.000000   \n",
              "\n",
              "       PropertyField38_Y  GeographicField63_   GeographicField63_N  \\\n",
              "count       65000.000000              65000.0         65000.000000   \n",
              "mean            0.020292                  0.0             0.976262   \n",
              "std             0.140999                  0.0             0.152234   \n",
              "min             0.000000                  0.0             0.000000   \n",
              "25%             0.000000                  0.0             1.000000   \n",
              "50%             0.000000                  0.0             1.000000   \n",
              "75%             0.000000                  0.0             1.000000   \n",
              "max             1.000000                  0.0             1.000000   \n",
              "\n",
              "       GeographicField63_Y  GeographicField64_CA  GeographicField64_IL  \\\n",
              "count         65000.000000          65000.000000          65000.000000   \n",
              "mean              0.023738              0.361862              0.120908   \n",
              "std               0.152234              0.480543              0.326022   \n",
              "min               0.000000              0.000000              0.000000   \n",
              "25%               0.000000              0.000000              0.000000   \n",
              "50%               0.000000              0.000000              0.000000   \n",
              "75%               0.000000              1.000000              0.000000   \n",
              "max               1.000000              1.000000              1.000000   \n",
              "\n",
              "       GeographicField64_NJ  GeographicField64_TX  QuoteConversion_Flag  \n",
              "count          65000.000000          65000.000000          65000.000000  \n",
              "mean               0.267631              0.249600              0.188646  \n",
              "std                0.442727              0.432785              0.391230  \n",
              "min                0.000000              0.000000              0.000000  \n",
              "25%                0.000000              0.000000              0.000000  \n",
              "50%                0.000000              0.000000              0.000000  \n",
              "75%                1.000000              0.000000              0.000000  \n",
              "max                1.000000              1.000000              1.000000  \n",
              "\n",
              "[8 rows x 596 columns]"
            ]
          },
          "execution_count": 8,
          "metadata": {},
          "output_type": "execute_result"
        }
      ],
      "source": [
        "train_data.describe()"
      ]
    },
    {
      "cell_type": "code",
      "execution_count": null,
      "metadata": {
        "colab": {
          "base_uri": "https://localhost:8080/"
        },
        "id": "EzTPqC0XrqQ5",
        "outputId": "a95958d4-cea4-4755-c746-3e088d8507f3"
      },
      "outputs": [
        {
          "data": {
            "text/plain": [
              "0    52738\n",
              "1    12262\n",
              "Name: QuoteConversion_Flag, dtype: int64"
            ]
          },
          "execution_count": 9,
          "metadata": {},
          "output_type": "execute_result"
        }
      ],
      "source": [
        "train_data[\"QuoteConversion_Flag\"].value_counts()"
      ]
    },
    {
      "cell_type": "code",
      "execution_count": null,
      "metadata": {
        "id": "Jx4-E_2XrwZF"
      },
      "outputs": [],
      "source": [
        "Xtrain = train_data.drop([\"QuoteConversion_Flag\"],axis=1)\n",
        "Ytrain= pd.DataFrame(train_data[\"QuoteConversion_Flag\"])"
      ]
    },
    {
      "cell_type": "code",
      "execution_count": null,
      "metadata": {
        "id": "AIkE_ctGr7nh"
      },
      "outputs": [],
      "source": [
        "test_data = test_data.drop([\"GeographicField64\"],axis=1)"
      ]
    },
    {
      "cell_type": "code",
      "execution_count": null,
      "metadata": {
        "id": "5GfhSx4Zr-wS"
      },
      "outputs": [],
      "source": [
        "smote=SMOTE(sampling_strategy=\"minority\")"
      ]
    },
    {
      "cell_type": "code",
      "execution_count": null,
      "metadata": {
        "id": "QsuugennsAL4"
      },
      "outputs": [],
      "source": [
        "X_sm,Y_sm = smote.fit_resample(Xtrain,Ytrain)"
      ]
    },
    {
      "cell_type": "code",
      "execution_count": null,
      "metadata": {
        "colab": {
          "base_uri": "https://localhost:8080/"
        },
        "id": "EvQLPlnCsGPy",
        "outputId": "5fb96f39-5e13-4962-c51c-9d038df02548"
      },
      "outputs": [
        {
          "data": {
            "text/plain": [
              "0    52738\n",
              "1    52738\n",
              "Name: QuoteConversion_Flag, dtype: int64"
            ]
          },
          "execution_count": 14,
          "metadata": {},
          "output_type": "execute_result"
        }
      ],
      "source": [
        "Y_sm[\"QuoteConversion_Flag\"].value_counts()"
      ]
    },
    {
      "cell_type": "code",
      "execution_count": null,
      "metadata": {
        "id": "KEVJ9c6CsIt5"
      },
      "outputs": [],
      "source": [
        "X_train_sm, X_test_sm, Y_train_sm, Y_test_sm = train_test_split(X_sm,Y_sm, test_size = .30, random_state = 1,stratify=Y_sm)"
      ]
    },
    {
      "cell_type": "code",
      "execution_count": null,
      "metadata": {
        "id": "IJBh3mTUsLlH"
      },
      "outputs": [],
      "source": [
        "#DecisionTreeClassifier\n",
        "dt = DecisionTreeClassifier()\n",
        "dt.fit(X_train_sm,Y_train_sm)\n",
        "dt_predict = dt.predict(X_test_sm)"
      ]
    },
    {
      "cell_type": "code",
      "execution_count": null,
      "metadata": {
        "colab": {
          "base_uri": "https://localhost:8080/"
        },
        "id": "jt8QtgCRsPsy",
        "outputId": "4602163f-369f-47ab-810b-cf3116a79e90"
      },
      "outputs": [
        {
          "name": "stdout",
          "output_type": "stream",
          "text": [
            "accuracy Score (training) for Decision Tree:1.000000\n",
            "Confusion Matrix for Decision Tree\n",
            "[[14496  1325]\n",
            " [ 1226 14596]]\n",
            "Accuracy : 0.919381853806529\n",
            "Classification report:               precision    recall  f1-score   support\n",
            "\n",
            "           0       0.92      0.92      0.92     15821\n",
            "           1       0.92      0.92      0.92     15822\n",
            "\n",
            "    accuracy                           0.92     31643\n",
            "   macro avg       0.92      0.92      0.92     31643\n",
            "weighted avg       0.92      0.92      0.92     31643\n",
            "\n"
          ]
        }
      ],
      "source": [
        "print(\"accuracy Score (training) for Decision Tree:{0:6f}\".format(dt.score(X_train_sm,Y_train_sm)))\n",
        "print(\"Confusion Matrix for Decision Tree\")\n",
        "print(confusion_matrix(Y_test_sm,dt_predict))\n",
        "print(\"Accuracy :\", metrics.accuracy_score(Y_test_sm,dt_predict))\n",
        "print(\"Classification report:\", classification_report(Y_test_sm,dt_predict))"
      ]
    },
    {
      "cell_type": "code",
      "execution_count": null,
      "metadata": {
        "colab": {
          "base_uri": "https://localhost:8080/"
        },
        "id": "IMN7YJ98sSPe",
        "outputId": "5143d754-9713-496e-c3be-bb8ff22aede6"
      },
      "outputs": [
        {
          "name": "stderr",
          "output_type": "stream",
          "text": [
            "/usr/local/lib/python3.7/dist-packages/ipykernel_launcher.py:3: DataConversionWarning: A column-vector y was passed when a 1d array was expected. Please change the shape of y to (n_samples,), for example using ravel().\n",
            "  This is separate from the ipykernel package so we can avoid doing imports until\n"
          ]
        }
      ],
      "source": [
        "#RandomForestClassifier\n",
        "rf = RandomForestClassifier()\n",
        "rf.fit(X_train_sm,Y_train_sm)\n",
        "rf_predict = rf.predict(X_test_sm)"
      ]
    },
    {
      "cell_type": "code",
      "execution_count": null,
      "metadata": {
        "colab": {
          "base_uri": "https://localhost:8080/"
        },
        "id": "OhBpmxOzsgoX",
        "outputId": "56737b79-272b-4489-93c6-ce500810946d"
      },
      "outputs": [
        {
          "name": "stdout",
          "output_type": "stream",
          "text": [
            "accuracy Score (training) for Random Forest:1.000000\n",
            "Confusion Matrix for Random Forest\n",
            "[[15234   587]\n",
            " [ 1321 14501]]\n",
            "Accuracy : 0.9397023038270708\n",
            "Classification report:               precision    recall  f1-score   support\n",
            "\n",
            "           0       0.92      0.96      0.94     15821\n",
            "           1       0.96      0.92      0.94     15822\n",
            "\n",
            "    accuracy                           0.94     31643\n",
            "   macro avg       0.94      0.94      0.94     31643\n",
            "weighted avg       0.94      0.94      0.94     31643\n",
            "\n"
          ]
        }
      ],
      "source": [
        "print(\"accuracy Score (training) for Random Forest:{0:6f}\".format(rf.score(X_train_sm,Y_train_sm)))\n",
        "print(\"Confusion Matrix for Random Forest\")\n",
        "print(confusion_matrix(Y_test_sm,rf_predict))\n",
        "print(\"Accuracy :\", metrics.accuracy_score(Y_test_sm,rf_predict))\n",
        "print(\"Classification report:\", classification_report(Y_test_sm,rf_predict))"
      ]
    },
    {
      "cell_type": "code",
      "execution_count": null,
      "metadata": {
        "colab": {
          "base_uri": "https://localhost:8080/"
        },
        "id": "dsI2Y9dkstWW",
        "outputId": "4b2c13d6-7ee1-49b5-a68f-037e15f4d82f"
      },
      "outputs": [
        {
          "name": "stderr",
          "output_type": "stream",
          "text": [
            "/usr/local/lib/python3.7/dist-packages/sklearn/utils/validation.py:993: DataConversionWarning: A column-vector y was passed when a 1d array was expected. Please change the shape of y to (n_samples, ), for example using ravel().\n",
            "  y = column_or_1d(y, warn=True)\n"
          ]
        }
      ],
      "source": [
        "#SVM Classifier\n",
        "svm = SVC() \n",
        "svm.fit(X_train_sm,Y_train_sm) \n",
        "svm_predict=svm.predict(X_test_sm)"
      ]
    },
    {
      "cell_type": "code",
      "execution_count": null,
      "metadata": {
        "colab": {
          "base_uri": "https://localhost:8080/"
        },
        "id": "HBmXrDpV-n82",
        "outputId": "f22d51e5-1f1a-4804-f7cc-9d896096d4f1"
      },
      "outputs": [
        {
          "name": "stdout",
          "output_type": "stream",
          "text": [
            "accuracy Score (training) for SVM:0.606883\n",
            "Confusion Matrix for SVM\n",
            "[[ 7803  8018]\n",
            " [ 4431 11391]]\n",
            "Accuracy : 0.6065796542679266\n",
            "Classification report:               precision    recall  f1-score   support\n",
            "\n",
            "           0       0.64      0.49      0.56     15821\n",
            "           1       0.59      0.72      0.65     15822\n",
            "\n",
            "    accuracy                           0.61     31643\n",
            "   macro avg       0.61      0.61      0.60     31643\n",
            "weighted avg       0.61      0.61      0.60     31643\n",
            "\n"
          ]
        }
      ],
      "source": [
        "print(\"accuracy Score (training) for SVM:{0:6f}\".format(svm.score(X_train_sm,Y_train_sm)))\n",
        "print(\"Confusion Matrix for SVM\")\n",
        "print(confusion_matrix(Y_test_sm,svm_predict))\n",
        "print(\"Accuracy :\", metrics.accuracy_score(Y_test_sm,svm_predict))\n",
        "print(\"Classification report:\", classification_report(Y_test_sm,svm_predict))"
      ]
    },
    {
      "cell_type": "code",
      "execution_count": null,
      "metadata": {
        "colab": {
          "base_uri": "https://localhost:8080/"
        },
        "id": "dyKeOf1jK5Yd",
        "outputId": "0874edfc-b54d-4b0f-bb0d-fbced28986e2"
      },
      "outputs": [
        {
          "name": "stderr",
          "output_type": "stream",
          "text": [
            "/usr/local/lib/python3.7/dist-packages/sklearn/neighbors/_classification.py:198: DataConversionWarning: A column-vector y was passed when a 1d array was expected. Please change the shape of y to (n_samples,), for example using ravel().\n",
            "  return self._fit(X, y)\n"
          ]
        }
      ],
      "source": [
        "#K-Nearest Neighbours Classifier\n",
        "neigh = KNeighborsClassifier()\n",
        "neigh.fit(X_train_sm,Y_train_sm)\n",
        "neigh_predict=neigh.predict(X_test_sm)"
      ]
    },
    {
      "cell_type": "code",
      "execution_count": null,
      "metadata": {
        "colab": {
          "base_uri": "https://localhost:8080/"
        },
        "id": "6Jrbk_R-LZB9",
        "outputId": "16a1bba7-653a-42ca-d3e5-d7cd55a0d687"
      },
      "outputs": [
        {
          "name": "stdout",
          "output_type": "stream",
          "text": [
            "accuracy Score (training) for KNN :0.820609\n",
            "Confusion Matrix for KNN\n",
            "[[ 9384  6437]\n",
            " [ 2472 13350]]\n",
            "Accuracy : 0.718452738362355\n",
            "Classification report:               precision    recall  f1-score   support\n",
            "\n",
            "           0       0.79      0.59      0.68     15821\n",
            "           1       0.67      0.84      0.75     15822\n",
            "\n",
            "    accuracy                           0.72     31643\n",
            "   macro avg       0.73      0.72      0.71     31643\n",
            "weighted avg       0.73      0.72      0.71     31643\n",
            "\n"
          ]
        }
      ],
      "source": [
        "print(\"accuracy Score (training) for KNN :{0:6f}\".format(neigh.score(X_train_sm,Y_train_sm)))\n",
        "print(\"Confusion Matrix for KNN\")\n",
        "print(confusion_matrix(Y_test_sm,neigh_predict))\n",
        "print(\"Accuracy :\", metrics.accuracy_score(Y_test_sm,neigh_predict))\n",
        "print(\"Classification report:\", classification_report(Y_test_sm,neigh_predict))"
      ]
    },
    {
      "cell_type": "code",
      "execution_count": null,
      "metadata": {
        "colab": {
          "base_uri": "https://localhost:8080/"
        },
        "id": "keKF8126MmQW",
        "outputId": "04394c39-834d-4549-f98c-52e3409fe479"
      },
      "outputs": [
        {
          "name": "stderr",
          "output_type": "stream",
          "text": [
            "/usr/local/lib/python3.7/dist-packages/sklearn/neural_network/_multilayer_perceptron.py:1109: DataConversionWarning: A column-vector y was passed when a 1d array was expected. Please change the shape of y to (n_samples, ), for example using ravel().\n",
            "  y = column_or_1d(y, warn=True)\n"
          ]
        }
      ],
      "source": [
        "#MultiLayerPerceptron\n",
        "mlp = MLPClassifier()\n",
        "mlp.fit(X_train_sm,Y_train_sm)\n",
        "mlp_predict=mlp.predict(X_test_sm)"
      ]
    },
    {
      "cell_type": "code",
      "execution_count": null,
      "metadata": {
        "colab": {
          "base_uri": "https://localhost:8080/"
        },
        "id": "Dx59AamxNE72",
        "outputId": "cc4bb3d1-e48c-4847-bd5f-e90470e77142"
      },
      "outputs": [
        {
          "name": "stdout",
          "output_type": "stream",
          "text": [
            "accuracy Score (training) for MLP :0.779394\n",
            "Confusion Matrix for MLP\n",
            "[[ 9290  6531]\n",
            " [  520 15302]]\n",
            "Accuracy : 0.7771703062288657\n",
            "Classification report:               precision    recall  f1-score   support\n",
            "\n",
            "           0       0.95      0.59      0.72     15821\n",
            "           1       0.70      0.97      0.81     15822\n",
            "\n",
            "    accuracy                           0.78     31643\n",
            "   macro avg       0.82      0.78      0.77     31643\n",
            "weighted avg       0.82      0.78      0.77     31643\n",
            "\n"
          ]
        }
      ],
      "source": [
        "print(\"accuracy Score (training) for MLP :{0:6f}\".format(mlp.score(X_train_sm,Y_train_sm)))\n",
        "print(\"Confusion Matrix for MLP\")\n",
        "print(confusion_matrix(Y_test_sm,mlp_predict))\n",
        "print(\"Accuracy :\", metrics.accuracy_score(Y_test_sm,mlp_predict))\n",
        "print(\"Classification report:\", classification_report(Y_test_sm,mlp_predict))"
      ]
    },
    {
      "cell_type": "code",
      "execution_count": null,
      "metadata": {
        "id": "tFCBkCTvNH8Y"
      },
      "outputs": [],
      "source": [
        "model = [DecisionTreeClassifier(),RandomForestClassifier(),SVC(), KNeighborsClassifier(),MLPClassifier()]"
      ]
    },
    {
      "cell_type": "code",
      "execution_count": null,
      "metadata": {
        "colab": {
          "background_save": true,
          "base_uri": "https://localhost:8080/"
        },
        "id": "vTzsBhJtNMdF",
        "outputId": "25a11f42-54c6-4adb-8119-f58444b29776"
      },
      "outputs": [
        {
          "name": "stderr",
          "output_type": "stream",
          "text": [
            "/usr/local/lib/python3.7/dist-packages/sklearn/utils/validation.py:993: DataConversionWarning: A column-vector y was passed when a 1d array was expected. Please change the shape of y to (n_samples, ), for example using ravel().\n",
            "  y = column_or_1d(y, warn=True)\n"
          ]
        },
        {
          "name": "stdout",
          "output_type": "stream",
          "text": [
            "task:         [classification]\n",
            "n_classes:    [2]\n",
            "metric:       [accuracy_score]\n",
            "mode:         [oof_pred_bag]\n",
            "n_models:     [5]\n",
            "\n",
            "model  0:     [DecisionTreeClassifier]\n",
            "    fold  0:  [0.91838902]\n",
            "    fold  1:  [0.91876825]\n",
            "    fold  2:  [0.91929918]\n",
            "    fold  3:  [0.92165042]\n",
            "    ----\n",
            "    MEAN:     [0.91952672] + [0.00126802]\n",
            "    FULL:     [0.91952672]\n",
            "\n",
            "model  1:     [RandomForestClassifier]\n",
            "    fold  0:  [0.94049831]\n",
            "    fold  1:  [0.94027077]\n",
            "    fold  2:  [0.94030870]\n",
            "    fold  3:  [0.94068793]\n",
            "    ----\n",
            "    MEAN:     [0.94044143] + [0.00016639]\n",
            "    FULL:     [0.94044143]\n",
            "\n",
            "model  2:     [SVC]\n",
            "    fold  0:  [0.60673518]\n"
          ]
        }
      ],
      "source": [
        "S_Train, S_Test = stacking(model,                   \n",
        "                           X_sm, Y_sm, test_data,   \n",
        "                           regression=False, \n",
        "     \n",
        "                           mode='oof_pred_bag', \n",
        "       \n",
        "                           needs_proba=False,\n",
        "         \n",
        "                           save_dir=None, \n",
        "            \n",
        "                           metric=accuracy_score, \n",
        "    \n",
        "                           n_folds=4, \n",
        "                 \n",
        "                           stratified=True,\n",
        "            \n",
        "                           shuffle=True,  \n",
        "            \n",
        "                           random_state=0,    \n",
        "         \n",
        "                           verbose=2)"
      ]
    }
  ],
  "metadata": {
    "colab": {
      "provenance": []
    },
    "kernelspec": {
      "display_name": "Python 3",
      "name": "python3"
    },
    "language_info": {
      "name": "python"
    }
  },
  "nbformat": 4,
  "nbformat_minor": 0
}